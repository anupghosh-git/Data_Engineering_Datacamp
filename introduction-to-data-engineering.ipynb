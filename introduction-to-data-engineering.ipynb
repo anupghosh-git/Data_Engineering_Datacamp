{
 "cells": [
  {
   "cell_type": "markdown",
   "metadata": {},
   "source": [
    "# Introduction to Data Engineering\n"
   ]
  },
  {
   "cell_type": "markdown",
   "metadata": {},
   "source": [
    "## Databases\n",
    "- Essential tool for data engineer\n",
    "-  Databases\n",
    "    - Holds data\n",
    "    - Organizes data \n",
    "    - Retrieve/ Search data through DBMS\n",
    "\n",
    "### Databases and file storage\n",
    "- Databases\n",
    "    - very organized\n",
    "    - Functionality like search, replication, ..\n",
    "- File systems\n",
    "    - less organized\n",
    "    - Simple, less added functionality\n",
    "### \n",
    "\n"
   ]
  },
  {
   "cell_type": "markdown",
   "metadata": {},
   "source": []
  }
 ],
 "metadata": {
  "kernelspec": {
   "display_name": "Python 3.9.7 ('base')",
   "language": "python",
   "name": "python3"
  },
  "language_info": {
   "name": "python",
   "version": "3.9.7"
  },
  "orig_nbformat": 4,
  "vscode": {
   "interpreter": {
    "hash": "b3d12a30c639c3a494e062d6c4cc70e232cb1c584d6a6e220e40135ff73d5b15"
   }
  }
 },
 "nbformat": 4,
 "nbformat_minor": 2
}
